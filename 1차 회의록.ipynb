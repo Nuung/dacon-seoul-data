{
 "cells": [
  {
   "cell_type": "markdown",
   "id": "28a7654a",
   "metadata": {},
   "source": [
    "\n",
    "\n",
    "## 서울 시민 데이터를 활용한 도시문제 해결\n",
    "\n",
    "\n",
    "> 사전 참고 자료\n",
    "\n",
    "1. 서울특별시 빅데이터 캠퍼스: https://bigdata.seoul.go.kr/main.do\n",
    "2. 서울 열린데이터광장: https://data.seoul.go.kr/\n",
    "3. 서울 연구데이터서비스: https://data.si.re.kr/data\n",
    "4. 공공데이터포털: https://www.data.go.kr/\n",
    "5. 제 1회 서울 데이터 행정 포럼: https://www.youtube.com/watch?v=be58PcoBNn0\n",
    "6. 공공데이터 활용 우수 사례: https://www.data.go.kr/tcs/eds/ctm/selectContestDataList.do\n",
    "\n",
    "\n",
    "### 0. 실제 사례 예시 (국가 차원에서)\n",
    "\n",
    "1. 범죄예측지수, 감시 취약 지수 비교 분석 / CCTV 우선 설치지역 분석\n",
    "2. 버스 노선 개선 및 차량배치 / 교통 취약지역 분석\n",
    "3. 공동 주택 관리비 부당지수 분석 / 관리비 부정, 이상여부 모니터링 - 약간 FDS같음\n",
    "4. 업무 효율 강화, 자동화를 위한 분석\n",
    "5. etc\n",
    "\n",
    "\n",
    "### 1. 주제 선정\n",
    "\n",
    "- 문제, 해결 / 해결에 필요한 데이터셋\n",
    "- 데이터 분석 자체로는 문제 해결이 되는 경우는 없을 것 같고, 해결책에 대한 객관적인 지표 제공, 빠른 해결을 돕는 수단이 될 가능성이 높지 않나 라고 생각 \n",
    "- 분석을 넘어 모델링까지 가야 해결에 더 가까워지는 것 같다\n",
    "\n",
    "1. 서울시민의 업종별 카드소비 패턴 데이터 + 소비품목(통계청)별 상품판매 데이터 + 행정동단위 분기별 추정매출액 / 서울시 소비활동지수를 위한 금융통계 / + 소비자 물가 지수\n",
    "    - https://data.si.re.kr/node/286\n",
    "    - 서울 시민의 (거시적으로) 돈이 어디로 흐르는지 볼 수 있으면, 경제적 지표에 대한 인사이트를 얻을 수 있지 않은가\n",
    "    - 언제 총 거래량 자체가 변화하는가, \n",
    "    - 1인당 GDP 의 성장률이 가장 많을 때에 대한 위 분석을 체크 해 보면 ...\n",
    "    - \n",
    "\n",
    "2. \n",
    "\n",
    "- dumy, \n",
    "    - 식량문제? 흉작, 풍작 ,,, 날씨데이터와 누적 데이터 기반으로 풍흉작에 대한 예측이 가능하다면?\n",
    "    - 환경 이슈, 탄소관련 \n",
    "    - 장애인의 대중 교통 접근성을 데이터 분석으로 가장 취약한 곳을 찾아서 실질적 문제점 찾기\n",
    "\n",
    "\n",
    "\n",
    "### 2. 팀 병합\n",
    "\n",
    "\n",
    "\n",
    "### 3. 진행 사항\n",
    "\n",
    "\n"
   ]
  }
 ],
 "metadata": {
  "kernelspec": {
   "display_name": "Python 3 (ipykernel)",
   "language": "python",
   "name": "python3"
  },
  "language_info": {
   "codemirror_mode": {
    "name": "ipython",
    "version": 3
   },
   "file_extension": ".py",
   "mimetype": "text/x-python",
   "name": "python",
   "nbconvert_exporter": "python",
   "pygments_lexer": "ipython3",
   "version": "3.9.10"
  }
 },
 "nbformat": 4,
 "nbformat_minor": 5
}
